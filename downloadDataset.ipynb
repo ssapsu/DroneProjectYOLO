{
 "cells": [
  {
   "cell_type": "code",
   "execution_count": 1,
   "metadata": {},
   "outputs": [
    {
     "name": "stdout",
     "output_type": "stream",
     "text": [
      "loading Roboflow workspace...\n",
      "loading Roboflow project...\n",
      "Dependency ultralytics==8.0.196 is required but found version=8.2.95, to fix: `pip install ultralytics==8.0.196`\n"
     ]
    },
    {
     "name": "stderr",
     "output_type": "stream",
     "text": [
      "Downloading Dataset Version Zip in Parcel-Collection-1 to yolov8:: 100%|██████████| 4586/4586 [00:01<00:00, 4440.41it/s]"
     ]
    },
    {
     "name": "stdout",
     "output_type": "stream",
     "text": [
      "\n"
     ]
    },
    {
     "name": "stderr",
     "output_type": "stream",
     "text": [
      "\n",
      "Extracting Dataset Version Zip to Parcel-Collection-1 in yolov8:: 100%|██████████| 246/246 [00:00<00:00, 6276.76it/s]\n"
     ]
    }
   ],
   "source": [
    "#!pip install roboflow\n",
    "\n",
    "import os\n",
    "from dotenv import load_dotenv\n",
    "\n",
    "load_dotenv()\n",
    "\n",
    "from roboflow import Roboflow\n",
    "rf = Roboflow(api_key=os.getenv(\"ROBOFLOW_API_KEY\"))\n",
    "project = rf.workspace(\"percepdrone\").project(\"parcel-collection\")\n",
    "version = project.version(1)\n",
    "dataset = version.download(\"yolov8\")\n"
   ]
  },
  {
   "cell_type": "code",
   "execution_count": 3,
   "metadata": {},
   "outputs": [
    {
     "name": "stdout",
     "output_type": "stream",
     "text": [
      "New https://pypi.org/project/ultralytics/8.2.97 available 😃 Update with 'pip install -U ultralytics'\n",
      "Ultralytics YOLOv8.2.95 🚀 Python-3.10.14 torch-2.4.1 CPU (Apple M2)\n",
      "\u001b[34m\u001b[1mengine/trainer: \u001b[0mtask=detect, mode=train, model=yolov8s.pt, data=/Users/hyeonsu/Desktop/coventry/YOLOcustomTraining/Parcel-Collection-1/data.yaml, epochs=100, time=None, patience=100, batch=16, imgsz=640, save=True, save_period=-1, cache=False, device=None, workers=8, project=None, name=train2, exist_ok=False, pretrained=True, optimizer=auto, verbose=True, seed=0, deterministic=True, single_cls=False, rect=False, cos_lr=False, close_mosaic=10, resume=False, amp=True, fraction=1.0, profile=False, freeze=None, multi_scale=False, overlap_mask=True, mask_ratio=4, dropout=0.0, val=True, split=val, save_json=False, save_hybrid=False, conf=None, iou=0.7, max_det=300, half=False, dnn=False, plots=True, source=None, vid_stride=1, stream_buffer=False, visualize=False, augment=False, agnostic_nms=False, classes=None, retina_masks=False, embed=None, show=False, save_frames=False, save_txt=False, save_conf=False, save_crop=False, show_labels=True, show_conf=True, show_boxes=True, line_width=None, format=torchscript, keras=False, optimize=False, int8=False, dynamic=False, simplify=False, opset=None, workspace=4, nms=False, lr0=0.01, lrf=0.01, momentum=0.937, weight_decay=0.0005, warmup_epochs=3.0, warmup_momentum=0.8, warmup_bias_lr=0.1, box=7.5, cls=0.5, dfl=1.5, pose=12.0, kobj=1.0, label_smoothing=0.0, nbs=64, hsv_h=0.015, hsv_s=0.7, hsv_v=0.4, degrees=0.0, translate=0.1, scale=0.5, shear=0.0, perspective=0.0, flipud=0.0, fliplr=0.5, bgr=0.0, mosaic=1.0, mixup=0.0, copy_paste=0.0, auto_augment=randaugment, erasing=0.4, crop_fraction=1.0, cfg=None, tracker=botsort.yaml, save_dir=runs/detect/train2\n",
      "Traceback (most recent call last):\n",
      "  File \"/opt/anaconda3/envs/onnx/lib/python3.10/site-packages/ultralytics/engine/trainer.py\", line 557, in get_dataset\n",
      "    data = check_det_dataset(self.args.data)\n",
      "  File \"/opt/anaconda3/envs/onnx/lib/python3.10/site-packages/ultralytics/data/utils.py\", line 328, in check_det_dataset\n",
      "    raise FileNotFoundError(m)\n",
      "FileNotFoundError: \n",
      "Dataset '/Users/hyeonsu/Desktop/coventry/YOLOcustomTraining/Parcel-Collection-1/data.yaml' images not found ⚠️, missing path '/Users/hyeonsu/Desktop/coventry/YOLOcustomTraining/Parcel-Collection-1/Parcel-Collection-1/valid/images'\n",
      "Note dataset download directory is '/Users/hyeonsu/Desktop/datasets'. You can update this in '/Users/hyeonsu/Library/Application Support/Ultralytics/settings.yaml'\n",
      "\n",
      "The above exception was the direct cause of the following exception:\n",
      "\n",
      "Traceback (most recent call last):\n",
      "  File \"/opt/anaconda3/envs/onnx/bin/yolo\", line 8, in <module>\n",
      "    sys.exit(entrypoint())\n",
      "  File \"/opt/anaconda3/envs/onnx/lib/python3.10/site-packages/ultralytics/cfg/__init__.py\", line 830, in entrypoint\n",
      "    getattr(model, mode)(**overrides)  # default args from model\n",
      "  File \"/opt/anaconda3/envs/onnx/lib/python3.10/site-packages/ultralytics/engine/model.py\", line 809, in train\n",
      "    self.trainer = (trainer or self._smart_load(\"trainer\"))(overrides=args, _callbacks=self.callbacks)\n",
      "  File \"/opt/anaconda3/envs/onnx/lib/python3.10/site-packages/ultralytics/engine/trainer.py\", line 133, in __init__\n",
      "    self.trainset, self.testset = self.get_dataset()\n",
      "  File \"/opt/anaconda3/envs/onnx/lib/python3.10/site-packages/ultralytics/engine/trainer.py\", line 561, in get_dataset\n",
      "    raise RuntimeError(emojis(f\"Dataset '{clean_url(self.args.data)}' error ❌ {e}\")) from e\n",
      "RuntimeError: Dataset '/Users/hyeonsu/Desktop/coventry/YOLOcustomTraining/Parcel-Collection-1/data.yaml' error ❌ \n",
      "Dataset '/Users/hyeonsu/Desktop/coventry/YOLOcustomTraining/Parcel-Collection-1/data.yaml' images not found ⚠️, missing path '/Users/hyeonsu/Desktop/coventry/YOLOcustomTraining/Parcel-Collection-1/Parcel-Collection-1/valid/images'\n",
      "Note dataset download directory is '/Users/hyeonsu/Desktop/datasets'. You can update this in '/Users/hyeonsu/Library/Application Support/Ultralytics/settings.yaml'\n"
     ]
    }
   ],
   "source": [
    "!yolo task=detect mode=train model=yolov8s.pt data=/Users/hyeonsu/Desktop/coventry/YOLOcustomTraining/Parcel-Collection-1/data.yaml epochs=100 imgsz=640"
   ]
  },
  {
   "cell_type": "code",
   "execution_count": 4,
   "metadata": {},
   "outputs": [
    {
     "name": "stdout",
     "output_type": "stream",
     "text": [
      "names:\n",
      "- parcel\n",
      "nc: 1\n",
      "roboflow:\n",
      "  license: CC BY 4.0\n",
      "  project: parcel-collection\n",
      "  url: https://universe.roboflow.com/percepdrone/parcel-collection/dataset/1\n",
      "  version: 1\n",
      "  workspace: percepdrone\n",
      "test: ../test/images\n",
      "train: Parcel-Collection-1/train/images\n",
      "val: Parcel-Collection-1/valid/images\n"
     ]
    }
   ],
   "source": [
    "!cat /Users/hyeonsu/Desktop/coventry/YOLOcustomTraining/Parcel-Collection-1/data.yaml"
   ]
  }
 ],
 "metadata": {
  "kernelspec": {
   "display_name": "onnx",
   "language": "python",
   "name": "python3"
  },
  "language_info": {
   "codemirror_mode": {
    "name": "ipython",
    "version": 3
   },
   "file_extension": ".py",
   "mimetype": "text/x-python",
   "name": "python",
   "nbconvert_exporter": "python",
   "pygments_lexer": "ipython3",
   "version": "3.10.14"
  }
 },
 "nbformat": 4,
 "nbformat_minor": 2
}
